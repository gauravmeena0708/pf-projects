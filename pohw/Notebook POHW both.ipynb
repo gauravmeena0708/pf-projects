{
 "cells": [
  {
   "cell_type": "markdown",
   "id": "1329d51c",
   "metadata": {},
   "source": [
    "### Before 2014 and After 2014"
   ]
  },
  {
   "cell_type": "code",
   "execution_count": 268,
   "id": "3617bc01",
   "metadata": {},
   "outputs": [],
   "source": [
    "#parsing pre files\n",
    "from PyPDF4 import PdfFileReader\n",
    "import numpy as np\n",
    "import pandas as pd\n",
    "import os\n",
    "import re\n"
   ]
  },
  {
   "cell_type": "code",
   "execution_count": 265,
   "id": "cd55fa15-02a1-4dc0-aba1-56580ea20d1a",
   "metadata": {},
   "outputs": [
    {
     "name": "stderr",
     "output_type": "stream",
     "text": [
      "PdfReadWarning: Xref table not zero-indexed. ID numbers for objects will be corrected. [pdf.py:1801]\n"
     ]
    }
   ],
   "source": [
    "path = \".\\\\ABHI\\\\\"\n",
    "ind_pos = [0,18,19,20,38,39, 42,41,43,45,49,50,53,54,53,61,66,68,69,76,82,83,84,91,96,102]\n",
    "#ack number , member id, mem name, mobile  email\n",
    "pdffiles = [f for f in os.listdir(path) if os.path.isfile(os.path.join(path, f)) and f.endswith('.pdf')]\n",
    "rows=[]\n",
    "def process_post(cleaned):\n",
    "    regex = r'\\d{2}\\-[A-Z]{3}\\-\\d{4}'\n",
    "    if not re.fullmatch(regex, cleaned[20]):\n",
    "        cleaned[19] = cleaned[19] + cleaned[20]\n",
    "        cleaned.pop(20)\n",
    "    \n",
    "    if not len(cleaned[39]) == 15:\n",
    "        cleaned[39] = cleaned[39] + cleaned[40]\n",
    "\n",
    "    if cleaned[46] != '9':\n",
    "        cleaned[45] = cleaned[45] + cleaned[46]\n",
    "        cleaned.pop(46)\n",
    "\n",
    "    if cleaned[51] != '5':\n",
    "        cleaned[50] = cleaned[50] + cleaned[51]\n",
    "        cleaned.pop(51)\n",
    "\n",
    "    if not cleaned[77].startswith('Whether Employer'):\n",
    "        cleaned[76]=cleaned[76]+cleaned[77]\n",
    "        cleaned.pop(77)\n",
    "        \n",
    "    return [cleaned[0],cleaned[39],cleaned[19],cleaned[69],cleaned[76], fname,\"post 2014\"]\n",
    "    return False\n",
    "\n",
    "def process_pre(cleaned):\n",
    "    if not len(cleaned[49]) == 15:\n",
    "        cleaned[49] = cleaned[49] + cleaned[50]\n",
    "        \n",
    "    if cleaned[87] != '14':\n",
    "        cleaned[86] = cleaned[86] + cleaned[87]\n",
    "        cleaned.pop(87)\n",
    "    # print(cleaned[95:107])\n",
    "    return [cleaned[0],cleaned[49],cleaned[37],cleaned[104],cleaned[107], fname,\"pre 2014\"]\n",
    "    return False\n",
    "\n",
    "\n",
    "def process_page(page1, fname):\n",
    "    cleaned = [string for string in page1.split('\\n') if string.strip()]\n",
    "    if cleaned[13]=='PPO Number':\n",
    "        arr = process_pre(cleaned)\n",
    "        return arr\n",
    "    elif cleaned[13] == 'UAN':\n",
    "        arr = process_post(cleaned)\n",
    "        return arr\n",
    "    else:\n",
    "        arr = False\n",
    "\n",
    "    return arr\n",
    "\n",
    "    \n",
    "\n",
    "for fname in pdffiles: #['6682_841.pdf','6682_1542.pdf','6682_839 COPY.pdf','10521_28.pdf']:#\n",
    "    fullpath = path+fname\n",
    "    pdf_file = open(fullpath, 'rb')\n",
    "    pdf_reader = PdfFileReader(pdf_file)\n",
    "    page1 = pdf_reader.getPage(0).extractText()\n",
    "    pdf_file.close()\n",
    "    clean = process_page(page1, fname)\n",
    "    if clean:\n",
    "        rows.append(clean)\n",
    "\n",
    "cols=['ack','memid','name','phone','email','fname','category']\n",
    "df = pd.DataFrame(np.array(rows),columns=cols)\n",
    "df.to_excel('all.xlsx', index=False)\n"
   ]
  }
 ],
 "metadata": {
  "kernelspec": {
   "display_name": "Python [conda env:base] *",
   "language": "python",
   "name": "conda-base-py"
  },
  "language_info": {
   "codemirror_mode": {
    "name": "ipython",
    "version": 3
   },
   "file_extension": ".py",
   "mimetype": "text/x-python",
   "name": "python",
   "nbconvert_exporter": "python",
   "pygments_lexer": "ipython3",
   "version": "3.12.4"
  }
 },
 "nbformat": 4,
 "nbformat_minor": 5
}
